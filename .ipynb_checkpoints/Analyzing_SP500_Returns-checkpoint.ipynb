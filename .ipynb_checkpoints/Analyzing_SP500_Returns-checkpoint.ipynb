{
 "cells": [
  {
   "cell_type": "markdown",
   "id": "bce034b4",
   "metadata": {},
   "source": [
    "# Notebook Purpose: Produce basic statistical analysis of 5Y SP500 returns & VIX relationship\n",
    "Notebook author: Philippe Heitzmann"
   ]
  },
  {
   "cell_type": "code",
   "execution_count": 3,
   "id": "b66647ce",
   "metadata": {},
   "outputs": [
    {
     "data": {
      "text/html": [
       "<div>\n",
       "<style scoped>\n",
       "    .dataframe tbody tr th:only-of-type {\n",
       "        vertical-align: middle;\n",
       "    }\n",
       "\n",
       "    .dataframe tbody tr th {\n",
       "        vertical-align: top;\n",
       "    }\n",
       "\n",
       "    .dataframe thead th {\n",
       "        text-align: right;\n",
       "    }\n",
       "</style>\n",
       "<table border=\"1\" class=\"dataframe\">\n",
       "  <thead>\n",
       "    <tr style=\"text-align: right;\">\n",
       "      <th></th>\n",
       "      <th>Date</th>\n",
       "      <th>SP500</th>\n",
       "      <th>SP500_%_Daily_Return</th>\n",
       "      <th>VIX</th>\n",
       "    </tr>\n",
       "  </thead>\n",
       "  <tbody>\n",
       "    <tr>\n",
       "      <th>0</th>\n",
       "      <td>2017-09-25</td>\n",
       "      <td>2496.66</td>\n",
       "      <td>NaN</td>\n",
       "      <td>10.21</td>\n",
       "    </tr>\n",
       "    <tr>\n",
       "      <th>1</th>\n",
       "      <td>2017-09-26</td>\n",
       "      <td>2496.84</td>\n",
       "      <td>0.007%</td>\n",
       "      <td>10.17</td>\n",
       "    </tr>\n",
       "    <tr>\n",
       "      <th>2</th>\n",
       "      <td>2017-09-27</td>\n",
       "      <td>2507.04</td>\n",
       "      <td>0.409%</td>\n",
       "      <td>9.87</td>\n",
       "    </tr>\n",
       "    <tr>\n",
       "      <th>3</th>\n",
       "      <td>2017-09-28</td>\n",
       "      <td>2510.06</td>\n",
       "      <td>0.120%</td>\n",
       "      <td>9.55</td>\n",
       "    </tr>\n",
       "    <tr>\n",
       "      <th>4</th>\n",
       "      <td>2017-09-29</td>\n",
       "      <td>2519.36</td>\n",
       "      <td>0.371%</td>\n",
       "      <td>9.51</td>\n",
       "    </tr>\n",
       "  </tbody>\n",
       "</table>\n",
       "</div>"
      ],
      "text/plain": [
       "         Date    SP500 SP500_%_Daily_Return     VIX\n",
       "0  2017-09-25  2496.66                   NaN  10.21\n",
       "1  2017-09-26  2496.84                0.007%  10.17\n",
       "2  2017-09-27  2507.04                0.409%   9.87\n",
       "3  2017-09-28  2510.06                0.120%   9.55\n",
       "4  2017-09-29  2519.36                0.371%   9.51"
      ]
     },
     "execution_count": 3,
     "metadata": {},
     "output_type": "execute_result"
    }
   ],
   "source": [
    "import pandas as pd\n",
    "\n",
    "df = pd.read_csv('SP500_VIX_Time_Series_Raw_Data.csv')\n",
    "df.head()"
   ]
  },
  {
   "cell_type": "markdown",
   "id": "86dc6609",
   "metadata": {},
   "source": [
    "### Imputing missing values"
   ]
  },
  {
   "cell_type": "code",
   "execution_count": 16,
   "id": "dbbf6ca7",
   "metadata": {},
   "outputs": [],
   "source": [
    "df = df.interpolate()\n",
    "df['SP500_Pct_Daily_Return'] = df['SP500'].pct_change() * 100\n",
    "df.drop('SP500_%_Daily_Return ', axis = 1, inplace = True)"
   ]
  },
  {
   "cell_type": "markdown",
   "id": "47882ffe",
   "metadata": {},
   "source": [
    "### Looking at days with >2% gains / drops "
   ]
  },
  {
   "cell_type": "code",
   "execution_count": 32,
   "id": "f51b4e47",
   "metadata": {},
   "outputs": [
    {
     "data": {
      "image/png": "[encoded data removed]",
      "text/plain": [
       "<Figure size 864x576 with 1 Axes>"
      ]
     },
     "metadata": {
      "needs_background": "light"
     },
     "output_type": "display_data"
    }
   ],
   "source": [
    "import matplotlib.pyplot as plt\n",
    "import numpy as np\n",
    "\n",
    "plt.figure(figsize=(12,8))\n",
    "plt.xticks(np.arange(-10, 10, step=1))\n",
    "n, bins, patches = plt.hist(df['SP500_Pct_Daily_Return'], bins = 100)"
   ]
  },
  {
   "cell_type": "code",
   "execution_count": 20,
   "id": "b02af6d7",
   "metadata": {},
   "outputs": [
    {
     "data": {
      "text/html": [
       "<div>\n",
       "<style scoped>\n",
       "    .dataframe tbody tr th:only-of-type {\n",
       "        vertical-align: middle;\n",
       "    }\n",
       "\n",
       "    .dataframe tbody tr th {\n",
       "        vertical-align: top;\n",
       "    }\n",
       "\n",
       "    .dataframe thead th {\n",
       "        text-align: right;\n",
       "    }\n",
       "</style>\n",
       "<table border=\"1\" class=\"dataframe\">\n",
       "  <thead>\n",
       "    <tr style=\"text-align: right;\">\n",
       "      <th></th>\n",
       "      <th>Date</th>\n",
       "      <th>SP500</th>\n",
       "      <th>VIX</th>\n",
       "      <th>SP500_Pct_Daily_Return</th>\n",
       "    </tr>\n",
       "  </thead>\n",
       "  <tbody>\n",
       "    <tr>\n",
       "      <th>94</th>\n",
       "      <td>2018-02-02</td>\n",
       "      <td>2762.13</td>\n",
       "      <td>17.31</td>\n",
       "      <td>-2.120851</td>\n",
       "    </tr>\n",
       "    <tr>\n",
       "      <th>95</th>\n",
       "      <td>2018-02-05</td>\n",
       "      <td>2648.94</td>\n",
       "      <td>37.32</td>\n",
       "      <td>-4.097924</td>\n",
       "    </tr>\n",
       "    <tr>\n",
       "      <th>98</th>\n",
       "      <td>2018-02-08</td>\n",
       "      <td>2581.00</td>\n",
       "      <td>33.46</td>\n",
       "      <td>-3.753645</td>\n",
       "    </tr>\n",
       "    <tr>\n",
       "      <th>128</th>\n",
       "      <td>2018-03-22</td>\n",
       "      <td>2643.69</td>\n",
       "      <td>23.34</td>\n",
       "      <td>-2.516289</td>\n",
       "    </tr>\n",
       "    <tr>\n",
       "      <th>129</th>\n",
       "      <td>2018-03-23</td>\n",
       "      <td>2588.26</td>\n",
       "      <td>24.87</td>\n",
       "      <td>-2.096691</td>\n",
       "    </tr>\n",
       "    <tr>\n",
       "      <th>...</th>\n",
       "      <td>...</td>\n",
       "      <td>...</td>\n",
       "      <td>...</td>\n",
       "      <td>...</td>\n",
       "    </tr>\n",
       "    <tr>\n",
       "      <th>1233</th>\n",
       "      <td>2022-06-16</td>\n",
       "      <td>3666.77</td>\n",
       "      <td>32.95</td>\n",
       "      <td>-3.251196</td>\n",
       "    </tr>\n",
       "    <tr>\n",
       "      <th>1241</th>\n",
       "      <td>2022-06-28</td>\n",
       "      <td>3821.55</td>\n",
       "      <td>28.36</td>\n",
       "      <td>-2.014302</td>\n",
       "    </tr>\n",
       "    <tr>\n",
       "      <th>1280</th>\n",
       "      <td>2022-08-22</td>\n",
       "      <td>4137.99</td>\n",
       "      <td>23.80</td>\n",
       "      <td>-2.140012</td>\n",
       "    </tr>\n",
       "    <tr>\n",
       "      <th>1284</th>\n",
       "      <td>2022-08-26</td>\n",
       "      <td>4057.66</td>\n",
       "      <td>25.56</td>\n",
       "      <td>-3.368801</td>\n",
       "    </tr>\n",
       "    <tr>\n",
       "      <th>1296</th>\n",
       "      <td>2022-09-13</td>\n",
       "      <td>3932.69</td>\n",
       "      <td>27.27</td>\n",
       "      <td>-4.323656</td>\n",
       "    </tr>\n",
       "  </tbody>\n",
       "</table>\n",
       "<p>64 rows × 4 columns</p>\n",
       "</div>"
      ],
      "text/plain": [
       "            Date    SP500    VIX  SP500_Pct_Daily_Return\n",
       "94    2018-02-02  2762.13  17.31               -2.120851\n",
       "95    2018-02-05  2648.94  37.32               -4.097924\n",
       "98    2018-02-08  2581.00  33.46               -3.753645\n",
       "128   2018-03-22  2643.69  23.34               -2.516289\n",
       "129   2018-03-23  2588.26  24.87               -2.096691\n",
       "...          ...      ...    ...                     ...\n",
       "1233  2022-06-16  3666.77  32.95               -3.251196\n",
       "1241  2022-06-28  3821.55  28.36               -2.014302\n",
       "1280  2022-08-22  4137.99  23.80               -2.140012\n",
       "1284  2022-08-26  4057.66  25.56               -3.368801\n",
       "1296  2022-09-13  3932.69  27.27               -4.323656\n",
       "\n",
       "[64 rows x 4 columns]"
      ]
     },
     "execution_count": 20,
     "metadata": {},
     "output_type": "execute_result"
    }
   ],
   "source": [
    "df.loc[df['SP500_Pct_Daily_Return'] < -2]"
   ]
  },
  {
   "cell_type": "code",
   "execution_count": 33,
   "id": "86abec70",
   "metadata": {},
   "outputs": [
    {
     "data": {
      "text/plain": [
       "count    1304.000000\n",
       "mean        0.038485\n",
       "std         1.296297\n",
       "min       -11.984050\n",
       "25%        -0.407507\n",
       "50%         0.079178\n",
       "75%         0.642823\n",
       "max         9.382766\n",
       "Name: SP500_Pct_Daily_Return, dtype: float64"
      ]
     },
     "execution_count": 33,
     "metadata": {},
     "output_type": "execute_result"
    }
   ],
   "source": [
    "df['SP500_Pct_Daily_Return'].describe()"
   ]
  },
  {
   "cell_type": "code",
   "execution_count": 49,
   "id": "e1cf89c9",
   "metadata": {},
   "outputs": [],
   "source": [
    "neg2_following_day_idxs = list([i+1 for i in np.where(df['SP500_Pct_Daily_Return'] <= -1.5)][0])\n",
    "pos2_following_day_idxs = list([i+1 for i in np.where(df['SP500_Pct_Daily_Return'] >= 1.5)][0])"
   ]
  },
  {
   "cell_type": "code",
   "execution_count": 50,
   "id": "0d93e9fb",
   "metadata": {},
   "outputs": [
    {
     "data": {
      "text/html": [
       "<div>\n",
       "<style scoped>\n",
       "    .dataframe tbody tr th:only-of-type {\n",
       "        vertical-align: middle;\n",
       "    }\n",
       "\n",
       "    .dataframe tbody tr th {\n",
       "        vertical-align: top;\n",
       "    }\n",
       "\n",
       "    .dataframe thead th {\n",
       "        text-align: right;\n",
       "    }\n",
       "</style>\n",
       "<table border=\"1\" class=\"dataframe\">\n",
       "  <thead>\n",
       "    <tr style=\"text-align: right;\">\n",
       "      <th></th>\n",
       "      <th>SP500</th>\n",
       "      <th>VIX</th>\n",
       "      <th>SP500_Pct_Daily_Return</th>\n",
       "    </tr>\n",
       "  </thead>\n",
       "  <tbody>\n",
       "    <tr>\n",
       "      <th>count</th>\n",
       "      <td>101.000000</td>\n",
       "      <td>101.000000</td>\n",
       "      <td>101.000000</td>\n",
       "    </tr>\n",
       "    <tr>\n",
       "      <th>mean</th>\n",
       "      <td>3273.658069</td>\n",
       "      <td>30.968911</td>\n",
       "      <td>0.200245</td>\n",
       "    </tr>\n",
       "    <tr>\n",
       "      <th>std</th>\n",
       "      <td>705.987345</td>\n",
       "      <td>13.169150</td>\n",
       "      <td>2.584535</td>\n",
       "    </tr>\n",
       "    <tr>\n",
       "      <th>min</th>\n",
       "      <td>2237.400000</td>\n",
       "      <td>0.000000</td>\n",
       "      <td>-9.511268</td>\n",
       "    </tr>\n",
       "    <tr>\n",
       "      <th>25%</th>\n",
       "      <td>2663.680000</td>\n",
       "      <td>23.130000</td>\n",
       "      <td>-0.666640</td>\n",
       "    </tr>\n",
       "    <tr>\n",
       "      <th>50%</th>\n",
       "      <td>2972.370000</td>\n",
       "      <td>28.380000</td>\n",
       "      <td>0.220085</td>\n",
       "    </tr>\n",
       "    <tr>\n",
       "      <th>75%</th>\n",
       "      <td>3930.080000</td>\n",
       "      <td>33.350000</td>\n",
       "      <td>1.152482</td>\n",
       "    </tr>\n",
       "    <tr>\n",
       "      <th>max</th>\n",
       "      <td>4696.050000</td>\n",
       "      <td>75.910000</td>\n",
       "      <td>9.382766</td>\n",
       "    </tr>\n",
       "  </tbody>\n",
       "</table>\n",
       "</div>"
      ],
      "text/plain": [
       "             SP500         VIX  SP500_Pct_Daily_Return\n",
       "count   101.000000  101.000000              101.000000\n",
       "mean   3273.658069   30.968911                0.200245\n",
       "std     705.987345   13.169150                2.584535\n",
       "min    2237.400000    0.000000               -9.511268\n",
       "25%    2663.680000   23.130000               -0.666640\n",
       "50%    2972.370000   28.380000                0.220085\n",
       "75%    3930.080000   33.350000                1.152482\n",
       "max    4696.050000   75.910000                9.382766"
      ]
     },
     "execution_count": 50,
     "metadata": {},
     "output_type": "execute_result"
    }
   ],
   "source": [
    "df.loc[df.index.isin(neg2_following_day_idxs)].describe()"
   ]
  },
  {
   "cell_type": "code",
   "execution_count": 51,
   "id": "94debdfa",
   "metadata": {},
   "outputs": [
    {
     "data": {
      "text/html": [
       "<div>\n",
       "<style scoped>\n",
       "    .dataframe tbody tr th:only-of-type {\n",
       "        vertical-align: middle;\n",
       "    }\n",
       "\n",
       "    .dataframe tbody tr th {\n",
       "        vertical-align: top;\n",
       "    }\n",
       "\n",
       "    .dataframe thead th {\n",
       "        text-align: right;\n",
       "    }\n",
       "</style>\n",
       "<table border=\"1\" class=\"dataframe\">\n",
       "  <thead>\n",
       "    <tr style=\"text-align: right;\">\n",
       "      <th></th>\n",
       "      <th>SP500</th>\n",
       "      <th>VIX</th>\n",
       "      <th>SP500_Pct_Daily_Return</th>\n",
       "    </tr>\n",
       "  </thead>\n",
       "  <tbody>\n",
       "    <tr>\n",
       "      <th>count</th>\n",
       "      <td>84.000000</td>\n",
       "      <td>84.000000</td>\n",
       "      <td>84.000000</td>\n",
       "    </tr>\n",
       "    <tr>\n",
       "      <th>mean</th>\n",
       "      <td>3448.524345</td>\n",
       "      <td>29.249524</td>\n",
       "      <td>-0.465608</td>\n",
       "    </tr>\n",
       "    <tr>\n",
       "      <th>std</th>\n",
       "      <td>716.163106</td>\n",
       "      <td>12.705908</td>\n",
       "      <td>2.051132</td>\n",
       "    </tr>\n",
       "    <tr>\n",
       "      <th>min</th>\n",
       "      <td>2386.130000</td>\n",
       "      <td>15.780000</td>\n",
       "      <td>-11.984050</td>\n",
       "    </tr>\n",
       "    <tr>\n",
       "      <th>25%</th>\n",
       "      <td>2783.275000</td>\n",
       "      <td>21.362500</td>\n",
       "      <td>-0.886064</td>\n",
       "    </tr>\n",
       "    <tr>\n",
       "      <th>50%</th>\n",
       "      <td>3402.195000</td>\n",
       "      <td>26.130000</td>\n",
       "      <td>-0.159373</td>\n",
       "    </tr>\n",
       "    <tr>\n",
       "      <th>75%</th>\n",
       "      <td>4115.790000</td>\n",
       "      <td>30.492500</td>\n",
       "      <td>0.804583</td>\n",
       "    </tr>\n",
       "    <tr>\n",
       "      <th>max</th>\n",
       "      <td>4701.210000</td>\n",
       "      <td>82.690000</td>\n",
       "      <td>2.474223</td>\n",
       "    </tr>\n",
       "  </tbody>\n",
       "</table>\n",
       "</div>"
      ],
      "text/plain": [
       "             SP500        VIX  SP500_Pct_Daily_Return\n",
       "count    84.000000  84.000000               84.000000\n",
       "mean   3448.524345  29.249524               -0.465608\n",
       "std     716.163106  12.705908                2.051132\n",
       "min    2386.130000  15.780000              -11.984050\n",
       "25%    2783.275000  21.362500               -0.886064\n",
       "50%    3402.195000  26.130000               -0.159373\n",
       "75%    4115.790000  30.492500                0.804583\n",
       "max    4701.210000  82.690000                2.474223"
      ]
     },
     "execution_count": 51,
     "metadata": {},
     "output_type": "execute_result"
    }
   ],
   "source": [
    "df.loc[df.index.isin(pos2_following_day_idxs)].describe()"
   ]
  },
  {
   "cell_type": "code",
   "execution_count": 52,
   "id": "9455954e",
   "metadata": {},
   "outputs": [
    {
     "data": {
      "text/plain": [
       "1305"
      ]
     },
     "execution_count": 52,
     "metadata": {},
     "output_type": "execute_result"
    }
   ],
   "source": [
    "df.shape[0]"
   ]
  },
  {
   "cell_type": "code",
   "execution_count": null,
   "id": "5d9ad902",
   "metadata": {},
   "outputs": [],
   "source": []
  }
 ],
 "metadata": {
  "kernelspec": {
   "display_name": "Python 3 (ipykernel)",
   "language": "python",
   "name": "python3"
  },
  "language_info": {
   "codemirror_mode": {
    "name": "ipython",
    "version": 3
   },
   "file_extension": ".py",
   "mimetype": "text/x-python",
   "name": "python",
   "nbconvert_exporter": "python",
   "pygments_lexer": "ipython3",
   "version": "3.8.10"
  }
 },
 "nbformat": 4,
 "nbformat_minor": 5
}
