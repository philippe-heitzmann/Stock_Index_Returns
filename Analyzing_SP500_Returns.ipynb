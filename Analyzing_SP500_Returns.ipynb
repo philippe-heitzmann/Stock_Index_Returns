{
 "cells": [
  {
   "cell_type": "markdown",
   "id": "4b297355",
   "metadata": {},
   "source": [
    "# Notebook Purpose: Produce basic statistical analysis of 5Y SP500 returns & VIX relationship\n",
    "Notebook author: Philippe Heitzmann"
   ]
  },
  {
   "cell_type": "code",
   "execution_count": 149,
   "id": "b9daaddd",
   "metadata": {},
   "outputs": [
    {
     "data": {
      "text/html": [
       "<div>\n",
       "<style scoped>\n",
       "    .dataframe tbody tr th:only-of-type {\n",
       "        vertical-align: middle;\n",
       "    }\n",
       "\n",
       "    .dataframe tbody tr th {\n",
       "        vertical-align: top;\n",
       "    }\n",
       "\n",
       "    .dataframe thead th {\n",
       "        text-align: right;\n",
       "    }\n",
       "</style>\n",
       "<table border=\"1\" class=\"dataframe\">\n",
       "  <thead>\n",
       "    <tr style=\"text-align: right;\">\n",
       "      <th></th>\n",
       "      <th>Date</th>\n",
       "      <th>SP500</th>\n",
       "      <th>SP500_%_Daily_Return</th>\n",
       "      <th>VIX</th>\n",
       "    </tr>\n",
       "  </thead>\n",
       "  <tbody>\n",
       "    <tr>\n",
       "      <th>0</th>\n",
       "      <td>2017-09-25</td>\n",
       "      <td>2496.66</td>\n",
       "      <td>NaN</td>\n",
       "      <td>10.21</td>\n",
       "    </tr>\n",
       "    <tr>\n",
       "      <th>1</th>\n",
       "      <td>2017-09-26</td>\n",
       "      <td>2496.84</td>\n",
       "      <td>0.007%</td>\n",
       "      <td>10.17</td>\n",
       "    </tr>\n",
       "    <tr>\n",
       "      <th>2</th>\n",
       "      <td>2017-09-27</td>\n",
       "      <td>2507.04</td>\n",
       "      <td>0.409%</td>\n",
       "      <td>9.87</td>\n",
       "    </tr>\n",
       "    <tr>\n",
       "      <th>3</th>\n",
       "      <td>2017-09-28</td>\n",
       "      <td>2510.06</td>\n",
       "      <td>0.120%</td>\n",
       "      <td>9.55</td>\n",
       "    </tr>\n",
       "    <tr>\n",
       "      <th>4</th>\n",
       "      <td>2017-09-29</td>\n",
       "      <td>2519.36</td>\n",
       "      <td>0.371%</td>\n",
       "      <td>9.51</td>\n",
       "    </tr>\n",
       "  </tbody>\n",
       "</table>\n",
       "</div>"
      ],
      "text/plain": [
       "         Date    SP500 SP500_%_Daily_Return     VIX\n",
       "0  2017-09-25  2496.66                   NaN  10.21\n",
       "1  2017-09-26  2496.84                0.007%  10.17\n",
       "2  2017-09-27  2507.04                0.409%   9.87\n",
       "3  2017-09-28  2510.06                0.120%   9.55\n",
       "4  2017-09-29  2519.36                0.371%   9.51"
      ]
     },
     "execution_count": 149,
     "metadata": {},
     "output_type": "execute_result"
    }
   ],
   "source": [
    "import pandas as pd\n",
    "\n",
    "df = pd.read_csv('SP500_VIX_Time_Series_Raw_Data.csv')\n",
    "df.head()"
   ]
  },
  {
   "cell_type": "markdown",
   "id": "0bfef988",
   "metadata": {},
   "source": [
    "### Imputing missing values"
   ]
  },
  {
   "cell_type": "code",
   "execution_count": 150,
   "id": "16b2706a",
   "metadata": {},
   "outputs": [
    {
     "data": {
      "text/plain": [
       "(1305, 6)"
      ]
     },
     "execution_count": 150,
     "metadata": {},
     "output_type": "execute_result"
    }
   ],
   "source": [
    "df = df.interpolate()\n",
    "df['SP500_Pct_Daily_Return'] = df['SP500'].pct_change() * 100\n",
    "df['VIX_Pct_Daily_Change'] = df['VIX'].pct_change() * 100 \n",
    "df['SP500_Pct_Daily_Return'].fillna(0)\n",
    "df['VIX_Pct_Daily_Change'].fillna(0)\n",
    "df.shape\n",
    "# df.drop('SP500_%_Daily_Return ', axis = 1, inplace = True)"
   ]
  },
  {
   "cell_type": "markdown",
   "id": "1664a161",
   "metadata": {},
   "source": [
    "### Creating additional variables"
   ]
  },
  {
   "cell_type": "code",
   "execution_count": 151,
   "id": "dc982054",
   "metadata": {},
   "outputs": [
    {
     "data": {
      "text/html": [
       "<div>\n",
       "<style scoped>\n",
       "    .dataframe tbody tr th:only-of-type {\n",
       "        vertical-align: middle;\n",
       "    }\n",
       "\n",
       "    .dataframe tbody tr th {\n",
       "        vertical-align: top;\n",
       "    }\n",
       "\n",
       "    .dataframe thead th {\n",
       "        text-align: right;\n",
       "    }\n",
       "</style>\n",
       "<table border=\"1\" class=\"dataframe\">\n",
       "  <thead>\n",
       "    <tr style=\"text-align: right;\">\n",
       "      <th></th>\n",
       "      <th>Date</th>\n",
       "      <th>SP500</th>\n",
       "      <th>SP500_%_Daily_Return</th>\n",
       "      <th>VIX</th>\n",
       "      <th>SP500_Pct_Daily_Return</th>\n",
       "      <th>VIX_Pct_Daily_Change</th>\n",
       "      <th>30D_MVA</th>\n",
       "      <th>50D_MVA</th>\n",
       "      <th>100D_MVA</th>\n",
       "      <th>200D_MVA</th>\n",
       "      <th>VIX_30D_MVA</th>\n",
       "      <th>VIX_50D_MVA</th>\n",
       "      <th>VIX_100D_MVA</th>\n",
       "      <th>VIX_200D_MVA</th>\n",
       "    </tr>\n",
       "  </thead>\n",
       "  <tbody>\n",
       "    <tr>\n",
       "      <th>0</th>\n",
       "      <td>2017-09-25</td>\n",
       "      <td>2496.66</td>\n",
       "      <td>NaN</td>\n",
       "      <td>10.21</td>\n",
       "      <td>NaN</td>\n",
       "      <td>NaN</td>\n",
       "      <td>NaN</td>\n",
       "      <td>NaN</td>\n",
       "      <td>NaN</td>\n",
       "      <td>NaN</td>\n",
       "      <td>NaN</td>\n",
       "      <td>NaN</td>\n",
       "      <td>NaN</td>\n",
       "      <td>NaN</td>\n",
       "    </tr>\n",
       "    <tr>\n",
       "      <th>1</th>\n",
       "      <td>2017-09-26</td>\n",
       "      <td>2496.84</td>\n",
       "      <td>0.007%</td>\n",
       "      <td>10.17</td>\n",
       "      <td>0.007210</td>\n",
       "      <td>-0.391773</td>\n",
       "      <td>NaN</td>\n",
       "      <td>NaN</td>\n",
       "      <td>NaN</td>\n",
       "      <td>NaN</td>\n",
       "      <td>NaN</td>\n",
       "      <td>NaN</td>\n",
       "      <td>NaN</td>\n",
       "      <td>NaN</td>\n",
       "    </tr>\n",
       "    <tr>\n",
       "      <th>2</th>\n",
       "      <td>2017-09-27</td>\n",
       "      <td>2507.04</td>\n",
       "      <td>0.409%</td>\n",
       "      <td>9.87</td>\n",
       "      <td>0.408516</td>\n",
       "      <td>-2.949853</td>\n",
       "      <td>NaN</td>\n",
       "      <td>NaN</td>\n",
       "      <td>NaN</td>\n",
       "      <td>NaN</td>\n",
       "      <td>NaN</td>\n",
       "      <td>NaN</td>\n",
       "      <td>NaN</td>\n",
       "      <td>NaN</td>\n",
       "    </tr>\n",
       "    <tr>\n",
       "      <th>3</th>\n",
       "      <td>2017-09-28</td>\n",
       "      <td>2510.06</td>\n",
       "      <td>0.120%</td>\n",
       "      <td>9.55</td>\n",
       "      <td>0.120461</td>\n",
       "      <td>-3.242148</td>\n",
       "      <td>NaN</td>\n",
       "      <td>NaN</td>\n",
       "      <td>NaN</td>\n",
       "      <td>NaN</td>\n",
       "      <td>NaN</td>\n",
       "      <td>NaN</td>\n",
       "      <td>NaN</td>\n",
       "      <td>NaN</td>\n",
       "    </tr>\n",
       "    <tr>\n",
       "      <th>4</th>\n",
       "      <td>2017-09-29</td>\n",
       "      <td>2519.36</td>\n",
       "      <td>0.371%</td>\n",
       "      <td>9.51</td>\n",
       "      <td>0.370509</td>\n",
       "      <td>-0.418848</td>\n",
       "      <td>NaN</td>\n",
       "      <td>NaN</td>\n",
       "      <td>NaN</td>\n",
       "      <td>NaN</td>\n",
       "      <td>NaN</td>\n",
       "      <td>NaN</td>\n",
       "      <td>NaN</td>\n",
       "      <td>NaN</td>\n",
       "    </tr>\n",
       "  </tbody>\n",
       "</table>\n",
       "</div>"
      ],
      "text/plain": [
       "         Date    SP500 SP500_%_Daily_Return     VIX  SP500_Pct_Daily_Return  \\\n",
       "0  2017-09-25  2496.66                   NaN  10.21                     NaN   \n",
       "1  2017-09-26  2496.84                0.007%  10.17                0.007210   \n",
       "2  2017-09-27  2507.04                0.409%   9.87                0.408516   \n",
       "3  2017-09-28  2510.06                0.120%   9.55                0.120461   \n",
       "4  2017-09-29  2519.36                0.371%   9.51                0.370509   \n",
       "\n",
       "   VIX_Pct_Daily_Change  30D_MVA  50D_MVA  100D_MVA  200D_MVA  VIX_30D_MVA  \\\n",
       "0                   NaN      NaN      NaN       NaN       NaN          NaN   \n",
       "1             -0.391773      NaN      NaN       NaN       NaN          NaN   \n",
       "2             -2.949853      NaN      NaN       NaN       NaN          NaN   \n",
       "3             -3.242148      NaN      NaN       NaN       NaN          NaN   \n",
       "4             -0.418848      NaN      NaN       NaN       NaN          NaN   \n",
       "\n",
       "   VIX_50D_MVA  VIX_100D_MVA  VIX_200D_MVA  \n",
       "0          NaN           NaN           NaN  \n",
       "1          NaN           NaN           NaN  \n",
       "2          NaN           NaN           NaN  \n",
       "3          NaN           NaN           NaN  \n",
       "4          NaN           NaN           NaN  "
      ]
     },
     "execution_count": 151,
     "metadata": {},
     "output_type": "execute_result"
    }
   ],
   "source": [
    "df['30D_MVA']= df['SP500_Pct_Daily_Return'].rolling(30).mean()\n",
    "df['50D_MVA']= df['SP500_Pct_Daily_Return'].rolling(50).mean()\n",
    "df['100D_MVA']= df['SP500_Pct_Daily_Return'].rolling(100).mean()\n",
    "df['200D_MVA']= df['SP500_Pct_Daily_Return'].rolling(200).mean()\n",
    "df['VIX_30D_MVA']= df['VIX'].rolling(30).mean()\n",
    "df['VIX_50D_MVA']= df['VIX'].rolling(50).mean()\n",
    "df['VIX_100D_MVA']= df['VIX'].rolling(100).mean()\n",
    "df['VIX_200D_MVA']= df['VIX'].rolling(200).mean()\n",
    "df.head()"
   ]
  },
  {
   "cell_type": "markdown",
   "id": "98bd63d5",
   "metadata": {},
   "source": [
    "### Looking at days with >2% gains / drops "
   ]
  },
  {
   "cell_type": "code",
   "execution_count": 32,
   "id": "ee0ed233",
   "metadata": {},
   "outputs": [
    {
     "data": {
      "image/png": "[encoded data removed]",
      "text/plain": [
       "<Figure size 864x576 with 1 Axes>"
      ]
     },
     "metadata": {
      "needs_background": "light"
     },
     "output_type": "display_data"
    }
   ],
   "source": [
    "import matplotlib.pyplot as plt\n",
    "import numpy as np\n",
    "\n",
    "plt.figure(figsize=(12,8))\n",
    "plt.xticks(np.arange(-10, 10, step=1))\n",
    "n, bins, patches = plt.hist(df['SP500_Pct_Daily_Return'], bins = 100)"
   ]
  },
  {
   "cell_type": "code",
   "execution_count": 91,
   "id": "f1aec165",
   "metadata": {},
   "outputs": [
    {
     "data": {
      "image/png": "[encoded data removed]",
      "text/plain": [
       "<Figure size 864x576 with 1 Axes>"
      ]
     },
     "metadata": {
      "needs_background": "light"
     },
     "output_type": "display_data"
    }
   ],
   "source": [
    "import matplotlib.pyplot as plt\n",
    "import numpy as np\n",
    "\n",
    "plt.figure(figsize=(12,8))\n",
    "plt.xticks(np.arange(-25, 25, step=5))\n",
    "n, bins, patches = plt.hist(df['VIX_Pct_Daily_Change'].loc[np.isfinite(df['VIX_Pct_Daily_Change'])], bins = 100)"
   ]
  },
  {
   "cell_type": "code",
   "execution_count": 184,
   "id": "caf431c3",
   "metadata": {},
   "outputs": [],
   "source": [
    "# Getting idx's of positive & negative return days\n",
    "neg_0D_idxs = list([i for i in np.where(df['SP500_Pct_Daily_Return'] <= -1.5)][0])[:-1] #leave out last observation given last market day was >1.5% loss day and therefore no following day data\n",
    "neg_0D = df.loc[df.index.isin(neg_0D_idxs)]\n",
    "neg_1D_idxs = list([i+1 for i in np.where(df['SP500_Pct_Daily_Return'] <= -1.5)][0])\n",
    "neg_1D = df.loc[df.index.isin(neg_1D_idxs)]\n",
    "\n",
    "pos_0D_idxs = list([i for i in np.where(df['SP500_Pct_Daily_Return'] >= 1.5)][0])\n",
    "pos_0D = df.loc[df.index.isin(pos_0D_idxs)]\n",
    "pos_1D_idxs = list([i+1 for i in np.where(df['SP500_Pct_Daily_Return'] >= 1.5)][0])\n",
    "pos_1D = df.loc[df.index.isin(pos_1D_idxs)]"
   ]
  },
  {
   "cell_type": "markdown",
   "id": "0fc6f31f",
   "metadata": {},
   "source": [
    "### Days following negative returns "
   ]
  },
  {
   "cell_type": "code",
   "execution_count": 155,
   "id": "6c4763d3",
   "metadata": {},
   "outputs": [
    {
     "data": {
      "image/png": "[encoded data removed]",
      "text/plain": [
       "<Figure size 864x576 with 1 Axes>"
      ]
     },
     "metadata": {
      "needs_background": "light"
     },
     "output_type": "display_data"
    }
   ],
   "source": [
    "import matplotlib.pyplot as plt\n",
    "import numpy as np\n",
    "\n",
    "plt.figure(figsize=(12,8))\n",
    "plt.xticks(np.arange(-10, 10, step=1))\n",
    "n, bins, patches = plt.hist(neg_0D['SP500_Pct_Daily_Return'], bins = 100)"
   ]
  },
  {
   "cell_type": "code",
   "execution_count": 156,
   "id": "a1951d35",
   "metadata": {},
   "outputs": [
    {
     "data": {
      "image/png": "[encoded data removed]",
      "text/plain": [
       "<Figure size 864x576 with 1 Axes>"
      ]
     },
     "metadata": {
      "needs_background": "light"
     },
     "output_type": "display_data"
    }
   ],
   "source": [
    "import matplotlib.pyplot as plt\n",
    "import numpy as np\n",
    "\n",
    "plt.figure(figsize=(12,8))\n",
    "plt.xticks(np.arange(-10, 10, step=1))\n",
    "n, bins, patches = plt.hist(neg_1D['SP500_Pct_Daily_Return'], bins = 100)"
   ]
  },
  {
   "cell_type": "markdown",
   "id": "9f17d727",
   "metadata": {},
   "source": [
    "### Days following positive returns "
   ]
  },
  {
   "cell_type": "code",
   "execution_count": 157,
   "id": "d400b631",
   "metadata": {},
   "outputs": [
    {
     "data": {
      "image/png": "[encoded data removed]",
      "text/plain": [
       "<Figure size 864x576 with 1 Axes>"
      ]
     },
     "metadata": {
      "needs_background": "light"
     },
     "output_type": "display_data"
    }
   ],
   "source": [
    "import matplotlib.pyplot as plt\n",
    "import numpy as np\n",
    "\n",
    "plt.figure(figsize=(12,8))\n",
    "plt.xticks(np.arange(-10, 10, step=1))\n",
    "n, bins, patches = plt.hist(pos_0D['SP500_Pct_Daily_Return'], bins = 100)"
   ]
  },
  {
   "cell_type": "code",
   "execution_count": 158,
   "id": "4c422b9b",
   "metadata": {},
   "outputs": [
    {
     "data": {
      "image/png": "[encoded data removed]",
      "text/plain": [
       "<Figure size 864x576 with 1 Axes>"
      ]
     },
     "metadata": {
      "needs_background": "light"
     },
     "output_type": "display_data"
    }
   ],
   "source": [
    "import matplotlib.pyplot as plt\n",
    "import numpy as np\n",
    "\n",
    "plt.figure(figsize=(12,8))\n",
    "plt.xticks(np.arange(-10, 10, step=1))\n",
    "n, bins, patches = plt.hist(pos_1D['SP500_Pct_Daily_Return'], bins = 100)"
   ]
  },
  {
   "cell_type": "code",
   "execution_count": 169,
   "id": "e087e307",
   "metadata": {
    "collapsed": true
   },
   "outputs": [
    {
     "name": "stdout",
     "output_type": "stream",
     "text": [
      "Collecting statsmodels\n",
      "  Downloading statsmodels-0.13.2-cp38-cp38-manylinux_2_17_x86_64.manylinux2014_x86_64.whl (9.9 MB)\n",
      "\u001b[K     |████████████████████████████████| 9.9 MB 2.6 MB/s eta 0:00:01\n",
      "\u001b[?25hRequirement already satisfied: pandas>=0.25 in /opt/conda/lib/python3.8/site-packages (from statsmodels) (1.3.4)\n",
      "Collecting packaging>=21.3\n",
      "  Downloading packaging-21.3-py3-none-any.whl (40 kB)\n",
      "\u001b[K     |████████████████████████████████| 40 kB 2.9 MB/s eta 0:00:01\n",
      "\u001b[?25hRequirement already satisfied: numpy>=1.17 in /opt/conda/lib/python3.8/site-packages (from statsmodels) (1.21.2)\n",
      "Requirement already satisfied: scipy>=1.3 in /opt/conda/lib/python3.8/site-packages (from statsmodels) (1.6.3)\n",
      "Collecting patsy>=0.5.2\n",
      "  Downloading patsy-0.5.2-py2.py3-none-any.whl (233 kB)\n",
      "\u001b[K     |████████████████████████████████| 233 kB 9.8 MB/s eta 0:00:01\n",
      "\u001b[?25hRequirement already satisfied: pyparsing!=3.0.5,>=2.0.2 in /opt/conda/lib/python3.8/site-packages (from packaging>=21.3->statsmodels) (2.4.7)\n",
      "Requirement already satisfied: pytz>=2017.3 in /opt/conda/lib/python3.8/site-packages (from pandas>=0.25->statsmodels) (2021.1)\n",
      "Requirement already satisfied: python-dateutil>=2.7.3 in /opt/conda/lib/python3.8/site-packages (from pandas>=0.25->statsmodels) (2.8.2)\n",
      "Requirement already satisfied: six in /opt/conda/lib/python3.8/site-packages (from patsy>=0.5.2->statsmodels) (1.16.0)\n",
      "Installing collected packages: patsy, packaging, statsmodels\n",
      "  Attempting uninstall: packaging\n",
      "    Found existing installation: packaging 21.0\n",
      "    Uninstalling packaging-21.0:\n",
      "      Successfully uninstalled packaging-21.0\n",
      "Successfully installed packaging-21.3 patsy-0.5.2 statsmodels-0.13.2\n",
      "\u001b[33mWARNING: Running pip as the 'root' user can result in broken permissions and conflicting behaviour with the system package manager. It is recommended to use a virtual environment instead: https://pip.pypa.io/warnings/venv\u001b[0m\n"
     ]
    }
   ],
   "source": [
    "!pip install statsmodels"
   ]
  },
  {
   "cell_type": "code",
   "execution_count": 171,
   "id": "c8f346de",
   "metadata": {},
   "outputs": [
    {
     "name": "stdout",
     "output_type": "stream",
     "text": [
      "                            OLS Regression Results                            \n",
      "==============================================================================\n",
      "Dep. Variable:                      y   R-squared:                       0.271\n",
      "Model:                            OLS   Adj. R-squared:                  0.262\n",
      "Method:                 Least Squares   F-statistic:                     30.53\n",
      "Date:                Mon, 26 Sep 2022   Prob (F-statistic):           3.79e-07\n",
      "Time:                        02:12:13   Log-Likelihood:                -165.74\n",
      "No. Observations:                  84   AIC:                             335.5\n",
      "Df Residuals:                      82   BIC:                             340.3\n",
      "Df Model:                           1                                         \n",
      "Covariance Type:            nonrobust                                         \n",
      "==============================================================================\n",
      "                 coef    std err          t      P>|t|      [0.025      0.975]\n",
      "------------------------------------------------------------------------------\n",
      "const          1.3259      0.377      3.518      0.001       0.576       2.076\n",
      "x1            -0.7151      0.129     -5.525      0.000      -0.973      -0.458\n",
      "==============================================================================\n",
      "Omnibus:                       12.899   Durbin-Watson:                   1.596\n",
      "Prob(Omnibus):                  0.002   Jarque-Bera (JB):               42.666\n",
      "Skew:                          -0.144   Prob(JB):                     5.43e-10\n",
      "Kurtosis:                       6.480   Cond. No.                         6.22\n",
      "==============================================================================\n",
      "\n",
      "Notes:\n",
      "[1] Standard Errors assume that the covariance matrix of the errors is correctly specified.\n"
     ]
    }
   ],
   "source": [
    "import statsmodels.api as sm\n",
    "\n",
    "x_pos = np.array(pos_0D['SP500_Pct_Daily_Return']).reshape(-1, 1)\n",
    "y_pos = np.array(pos_1D['SP500_Pct_Daily_Return']).reshape(-1, 1)\n",
    "X2 = sm.add_constant(x_pos)\n",
    "est = sm.OLS(y_pos, X2)\n",
    "est2 = est.fit()\n",
    "print(est2.summary())"
   ]
  },
  {
   "cell_type": "code",
   "execution_count": 188,
   "id": "7b23b0ba",
   "metadata": {},
   "outputs": [
    {
     "name": "stdout",
     "output_type": "stream",
     "text": [
      "                            OLS Regression Results                            \n",
      "==============================================================================\n",
      "Dep. Variable:                      y   R-squared:                       0.118\n",
      "Model:                            OLS   Adj. R-squared:                  0.109\n",
      "Method:                 Least Squares   F-statistic:                     13.28\n",
      "Date:                Mon, 26 Sep 2022   Prob (F-statistic):           0.000430\n",
      "Time:                        02:21:12   Log-Likelihood:                -232.36\n",
      "No. Observations:                 101   AIC:                             468.7\n",
      "Df Residuals:                      99   BIC:                             473.9\n",
      "Df Model:                           1                                         \n",
      "Covariance Type:            nonrobust                                         \n",
      "==============================================================================\n",
      "                 coef    std err          t      P>|t|      [0.025      0.975]\n",
      "------------------------------------------------------------------------------\n",
      "const         -1.3694      0.494     -2.769      0.007      -2.351      -0.388\n",
      "x1            -0.5708      0.157     -3.644      0.000      -0.882      -0.260\n",
      "==============================================================================\n",
      "Omnibus:                       23.793   Durbin-Watson:                   2.289\n",
      "Prob(Omnibus):                  0.000   Jarque-Bera (JB):              140.645\n",
      "Skew:                          -0.400   Prob(JB):                     2.88e-31\n",
      "Kurtosis:                       8.725   Cond. No.                         6.93\n",
      "==============================================================================\n",
      "\n",
      "Notes:\n",
      "[1] Standard Errors assume that the covariance matrix of the errors is correctly specified.\n"
     ]
    }
   ],
   "source": [
    "import statsmodels.api as sm\n",
    "\n",
    "x_neg = np.array(neg_0D['SP500_Pct_Daily_Return']).reshape(-1, 1)\n",
    "y_neg = np.array(neg_1D['SP500_Pct_Daily_Return']).reshape(-1, 1)\n",
    "X2 = sm.add_constant(x_neg)\n",
    "est = sm.OLS(y_neg, X2)\n",
    "est2 = est.fit()\n",
    "print(est2.summary())"
   ]
  },
  {
   "cell_type": "code",
   "execution_count": 192,
   "id": "c740a42b",
   "metadata": {},
   "outputs": [
    {
     "data": {
      "text/plain": [
       "0.06499999999999972"
      ]
     },
     "execution_count": 192,
     "metadata": {},
     "output_type": "execute_result"
    }
   ],
   "source": [
    "-1.36 + -2.5 * -0.57"
   ]
  },
  {
   "cell_type": "code",
   "execution_count": null,
   "id": "d07c8f8c",
   "metadata": {},
   "outputs": [],
   "source": []
  }
 ],
 "metadata": {
  "kernelspec": {
   "display_name": "Python 3 (ipykernel)",
   "language": "python",
   "name": "python3"
  },
  "language_info": {
   "codemirror_mode": {
    "name": "ipython",
    "version": 3
   },
   "file_extension": ".py",
   "mimetype": "text/x-python",
   "name": "python",
   "nbconvert_exporter": "python",
   "pygments_lexer": "ipython3",
   "version": "3.8.10"
  }
 },
 "nbformat": 4,
 "nbformat_minor": 5
}
